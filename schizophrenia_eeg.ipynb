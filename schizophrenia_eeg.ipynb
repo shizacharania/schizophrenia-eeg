{
  "nbformat": 4,
  "nbformat_minor": 0,
  "metadata": {
    "colab": {
      "provenance": []
    },
    "kernelspec": {
      "name": "python3",
      "display_name": "Python 3"
    },
    "language_info": {
      "name": "python"
    }
  },
  "cells": [
    {
      "cell_type": "code",
      "execution_count": 2,
      "metadata": {
        "id": "f5EpoW0epWnr",
        "colab": {
          "base_uri": "https://localhost:8080/"
        },
        "outputId": "c9b2b99e-40ab-422c-e6ac-ac97ace8a3b9"
      },
      "outputs": [
        {
          "output_type": "stream",
          "name": "stdout",
          "text": [
            "Mounted at /content/gdrive\n"
          ]
        }
      ],
      "source": [
        "from google.colab import drive\n",
        "drive.mount('/content/gdrive')"
      ]
    },
    {
      "cell_type": "code",
      "source": [
        "eeg_data = \"/content/gdrive/MyDrive/ERPdata.csv\""
      ],
      "metadata": {
        "id": "NM6DSs4ol992"
      },
      "execution_count": 184,
      "outputs": []
    },
    {
      "cell_type": "code",
      "source": [
        "import pandas as pd\n",
        "import csv\n",
        "import matplotlib.pyplot as plt\n",
        "import datetime as datetime\n",
        "import numpy as np"
      ],
      "metadata": {
        "id": "RMx6NbWUmdw3"
      },
      "execution_count": 237,
      "outputs": []
    },
    {
      "cell_type": "code",
      "source": [
        "file = open(eeg_data)\n",
        "csv_reader = csv.reader(file) # no need for  delimiter"
      ],
      "metadata": {
        "id": "kn_BQlBInljy"
      },
      "execution_count": 238,
      "outputs": []
    },
    {
      "cell_type": "code",
      "source": [
        "# just to visualize examples"
      ],
      "metadata": {
        "id": "DDvXNljPp5T_"
      },
      "execution_count": 239,
      "outputs": []
    },
    {
      "cell_type": "code",
      "source": [
        "csv_header = next(csv_reader)"
      ],
      "metadata": {
        "id": "UPdIGW93oeQ8"
      },
      "execution_count": 240,
      "outputs": []
    },
    {
      "cell_type": "code",
      "source": [
        "csv_header"
      ],
      "metadata": {
        "colab": {
          "base_uri": "https://localhost:8080/"
        },
        "id": "YhUvNfMCrEqN",
        "outputId": "2f43bf82-79f0-45dd-f89e-2d7f04f48b4a"
      },
      "execution_count": 241,
      "outputs": [
        {
          "output_type": "execute_result",
          "data": {
            "text/plain": [
              "['subject',\n",
              " 'condition',\n",
              " 'Fz',\n",
              " 'FCz',\n",
              " 'Cz',\n",
              " 'FC3',\n",
              " 'FC4',\n",
              " 'C3',\n",
              " 'C4',\n",
              " 'CP3',\n",
              " 'CP4',\n",
              " 'time_ms']"
            ]
          },
          "metadata": {},
          "execution_count": 241
        }
      ]
    },
    {
      "cell_type": "code",
      "source": [
        "type(csv_header)"
      ],
      "metadata": {
        "colab": {
          "base_uri": "https://localhost:8080/"
        },
        "id": "R7aPPP3a6HvV",
        "outputId": "107e731f-9591-4853-a068-9002a11434e8"
      },
      "execution_count": 242,
      "outputs": [
        {
          "output_type": "execute_result",
          "data": {
            "text/plain": [
              "list"
            ]
          },
          "metadata": {},
          "execution_count": 242
        }
      ]
    },
    {
      "cell_type": "code",
      "source": [
        "# if you run this (in comments), then it automatically skips the first line when printing the pandas dataframe"
      ],
      "metadata": {
        "id": "AlZ0T9mz9gnv"
      },
      "execution_count": null,
      "outputs": []
    },
    {
      "cell_type": "code",
      "source": [
        "# example_row_data_read = next(csv_reader)\n",
        "# example_row_data = np.array(example_row_data_read)"
      ],
      "metadata": {
        "id": "7Gqh0aUHo0QU"
      },
      "execution_count": 243,
      "outputs": []
    },
    {
      "cell_type": "code",
      "source": [
        "# example_row_data # U10 just means 'Unicode string of maximum length 10'"
      ],
      "metadata": {
        "id": "1keAgbDkpGSl"
      },
      "execution_count": 244,
      "outputs": []
    },
    {
      "cell_type": "code",
      "source": [
        "# putting it in pandas dataframe\n",
        "df = pd.read_csv(filepath_or_buffer=file, header=None, names=csv_header, skiprows=0)"
      ],
      "metadata": {
        "id": "fG7sPsr7p31m"
      },
      "execution_count": 245,
      "outputs": []
    },
    {
      "cell_type": "code",
      "source": [
        "df"
      ],
      "metadata": {
        "colab": {
          "base_uri": "https://localhost:8080/",
          "height": 488
        },
        "id": "ret_0Zpfp9Zm",
        "outputId": "c7313521-2baf-40a4-f5d9-b00ade9dff15"
      },
      "execution_count": 246,
      "outputs": [
        {
          "output_type": "execute_result",
          "data": {
            "text/plain": [
              "        subject  condition        Fz       FCz        Cz       FC3       FC4  \\\n",
              "0             1          1  5.533701  5.726507  5.469535  5.386723  4.588875   \n",
              "1             1          1  5.651489  5.837326  5.773131  5.627975  4.822217   \n",
              "2             1          1  5.717580  5.932924  5.948466  5.826460  4.979647   \n",
              "3             1          1  5.703267  5.968103  5.851512  5.812192  4.992899   \n",
              "4             1          1  5.571578  5.917541  5.812808  5.744715  4.963338   \n",
              "...         ...        ...       ...       ...       ...       ...       ...   \n",
              "746491       81          3 -0.401267  0.041014 -0.352556  0.712530 -0.427019   \n",
              "746492       81          3 -0.440294  0.093863 -0.422151  0.792209 -0.469230   \n",
              "746493       81          3 -0.466162  0.083799 -0.485091  0.799034 -0.466002   \n",
              "746494       81          3 -0.472620  0.003017 -0.465663  0.675452 -0.408777   \n",
              "746495       81          3 -0.496193  0.044210 -0.503998  0.711932 -0.426605   \n",
              "\n",
              "              C3        C4       CP3       CP4    time_ms  \n",
              "0       6.560092  4.542811  5.397492  5.103695 -1500.0000  \n",
              "1       6.739976  4.811770  5.541357  5.379273 -1499.0234  \n",
              "2       7.026199  5.053779  5.634972  5.600504 -1498.0469  \n",
              "3       6.940671  5.106650  5.543577  5.589775 -1497.0703  \n",
              "4       6.726491  5.158073  5.454069  5.614092 -1496.0938  \n",
              "...          ...       ...       ...       ...        ...  \n",
              "746491  0.479170  1.041864  0.645761 -0.085649  1495.1172  \n",
              "746492  0.486767  0.955658  0.601938 -0.264824  1496.0938  \n",
              "746493  0.516740  0.972635  0.612470 -0.463196  1497.0703  \n",
              "746494  0.558901  0.943028  0.635287 -0.656748  1498.0469  \n",
              "746495  0.672328  0.805889  0.602888 -0.719264  1499.0234  \n",
              "\n",
              "[746496 rows x 12 columns]"
            ],
            "text/html": [
              "\n",
              "  <div id=\"df-1ff8d056-fc5d-4caf-9ba2-4061d819f913\">\n",
              "    <div class=\"colab-df-container\">\n",
              "      <div>\n",
              "<style scoped>\n",
              "    .dataframe tbody tr th:only-of-type {\n",
              "        vertical-align: middle;\n",
              "    }\n",
              "\n",
              "    .dataframe tbody tr th {\n",
              "        vertical-align: top;\n",
              "    }\n",
              "\n",
              "    .dataframe thead th {\n",
              "        text-align: right;\n",
              "    }\n",
              "</style>\n",
              "<table border=\"1\" class=\"dataframe\">\n",
              "  <thead>\n",
              "    <tr style=\"text-align: right;\">\n",
              "      <th></th>\n",
              "      <th>subject</th>\n",
              "      <th>condition</th>\n",
              "      <th>Fz</th>\n",
              "      <th>FCz</th>\n",
              "      <th>Cz</th>\n",
              "      <th>FC3</th>\n",
              "      <th>FC4</th>\n",
              "      <th>C3</th>\n",
              "      <th>C4</th>\n",
              "      <th>CP3</th>\n",
              "      <th>CP4</th>\n",
              "      <th>time_ms</th>\n",
              "    </tr>\n",
              "  </thead>\n",
              "  <tbody>\n",
              "    <tr>\n",
              "      <th>0</th>\n",
              "      <td>1</td>\n",
              "      <td>1</td>\n",
              "      <td>5.533701</td>\n",
              "      <td>5.726507</td>\n",
              "      <td>5.469535</td>\n",
              "      <td>5.386723</td>\n",
              "      <td>4.588875</td>\n",
              "      <td>6.560092</td>\n",
              "      <td>4.542811</td>\n",
              "      <td>5.397492</td>\n",
              "      <td>5.103695</td>\n",
              "      <td>-1500.0000</td>\n",
              "    </tr>\n",
              "    <tr>\n",
              "      <th>1</th>\n",
              "      <td>1</td>\n",
              "      <td>1</td>\n",
              "      <td>5.651489</td>\n",
              "      <td>5.837326</td>\n",
              "      <td>5.773131</td>\n",
              "      <td>5.627975</td>\n",
              "      <td>4.822217</td>\n",
              "      <td>6.739976</td>\n",
              "      <td>4.811770</td>\n",
              "      <td>5.541357</td>\n",
              "      <td>5.379273</td>\n",
              "      <td>-1499.0234</td>\n",
              "    </tr>\n",
              "    <tr>\n",
              "      <th>2</th>\n",
              "      <td>1</td>\n",
              "      <td>1</td>\n",
              "      <td>5.717580</td>\n",
              "      <td>5.932924</td>\n",
              "      <td>5.948466</td>\n",
              "      <td>5.826460</td>\n",
              "      <td>4.979647</td>\n",
              "      <td>7.026199</td>\n",
              "      <td>5.053779</td>\n",
              "      <td>5.634972</td>\n",
              "      <td>5.600504</td>\n",
              "      <td>-1498.0469</td>\n",
              "    </tr>\n",
              "    <tr>\n",
              "      <th>3</th>\n",
              "      <td>1</td>\n",
              "      <td>1</td>\n",
              "      <td>5.703267</td>\n",
              "      <td>5.968103</td>\n",
              "      <td>5.851512</td>\n",
              "      <td>5.812192</td>\n",
              "      <td>4.992899</td>\n",
              "      <td>6.940671</td>\n",
              "      <td>5.106650</td>\n",
              "      <td>5.543577</td>\n",
              "      <td>5.589775</td>\n",
              "      <td>-1497.0703</td>\n",
              "    </tr>\n",
              "    <tr>\n",
              "      <th>4</th>\n",
              "      <td>1</td>\n",
              "      <td>1</td>\n",
              "      <td>5.571578</td>\n",
              "      <td>5.917541</td>\n",
              "      <td>5.812808</td>\n",
              "      <td>5.744715</td>\n",
              "      <td>4.963338</td>\n",
              "      <td>6.726491</td>\n",
              "      <td>5.158073</td>\n",
              "      <td>5.454069</td>\n",
              "      <td>5.614092</td>\n",
              "      <td>-1496.0938</td>\n",
              "    </tr>\n",
              "    <tr>\n",
              "      <th>...</th>\n",
              "      <td>...</td>\n",
              "      <td>...</td>\n",
              "      <td>...</td>\n",
              "      <td>...</td>\n",
              "      <td>...</td>\n",
              "      <td>...</td>\n",
              "      <td>...</td>\n",
              "      <td>...</td>\n",
              "      <td>...</td>\n",
              "      <td>...</td>\n",
              "      <td>...</td>\n",
              "      <td>...</td>\n",
              "    </tr>\n",
              "    <tr>\n",
              "      <th>746491</th>\n",
              "      <td>81</td>\n",
              "      <td>3</td>\n",
              "      <td>-0.401267</td>\n",
              "      <td>0.041014</td>\n",
              "      <td>-0.352556</td>\n",
              "      <td>0.712530</td>\n",
              "      <td>-0.427019</td>\n",
              "      <td>0.479170</td>\n",
              "      <td>1.041864</td>\n",
              "      <td>0.645761</td>\n",
              "      <td>-0.085649</td>\n",
              "      <td>1495.1172</td>\n",
              "    </tr>\n",
              "    <tr>\n",
              "      <th>746492</th>\n",
              "      <td>81</td>\n",
              "      <td>3</td>\n",
              "      <td>-0.440294</td>\n",
              "      <td>0.093863</td>\n",
              "      <td>-0.422151</td>\n",
              "      <td>0.792209</td>\n",
              "      <td>-0.469230</td>\n",
              "      <td>0.486767</td>\n",
              "      <td>0.955658</td>\n",
              "      <td>0.601938</td>\n",
              "      <td>-0.264824</td>\n",
              "      <td>1496.0938</td>\n",
              "    </tr>\n",
              "    <tr>\n",
              "      <th>746493</th>\n",
              "      <td>81</td>\n",
              "      <td>3</td>\n",
              "      <td>-0.466162</td>\n",
              "      <td>0.083799</td>\n",
              "      <td>-0.485091</td>\n",
              "      <td>0.799034</td>\n",
              "      <td>-0.466002</td>\n",
              "      <td>0.516740</td>\n",
              "      <td>0.972635</td>\n",
              "      <td>0.612470</td>\n",
              "      <td>-0.463196</td>\n",
              "      <td>1497.0703</td>\n",
              "    </tr>\n",
              "    <tr>\n",
              "      <th>746494</th>\n",
              "      <td>81</td>\n",
              "      <td>3</td>\n",
              "      <td>-0.472620</td>\n",
              "      <td>0.003017</td>\n",
              "      <td>-0.465663</td>\n",
              "      <td>0.675452</td>\n",
              "      <td>-0.408777</td>\n",
              "      <td>0.558901</td>\n",
              "      <td>0.943028</td>\n",
              "      <td>0.635287</td>\n",
              "      <td>-0.656748</td>\n",
              "      <td>1498.0469</td>\n",
              "    </tr>\n",
              "    <tr>\n",
              "      <th>746495</th>\n",
              "      <td>81</td>\n",
              "      <td>3</td>\n",
              "      <td>-0.496193</td>\n",
              "      <td>0.044210</td>\n",
              "      <td>-0.503998</td>\n",
              "      <td>0.711932</td>\n",
              "      <td>-0.426605</td>\n",
              "      <td>0.672328</td>\n",
              "      <td>0.805889</td>\n",
              "      <td>0.602888</td>\n",
              "      <td>-0.719264</td>\n",
              "      <td>1499.0234</td>\n",
              "    </tr>\n",
              "  </tbody>\n",
              "</table>\n",
              "<p>746496 rows × 12 columns</p>\n",
              "</div>\n",
              "      <button class=\"colab-df-convert\" onclick=\"convertToInteractive('df-1ff8d056-fc5d-4caf-9ba2-4061d819f913')\"\n",
              "              title=\"Convert this dataframe to an interactive table.\"\n",
              "              style=\"display:none;\">\n",
              "        \n",
              "  <svg xmlns=\"http://www.w3.org/2000/svg\" height=\"24px\"viewBox=\"0 0 24 24\"\n",
              "       width=\"24px\">\n",
              "    <path d=\"M0 0h24v24H0V0z\" fill=\"none\"/>\n",
              "    <path d=\"M18.56 5.44l.94 2.06.94-2.06 2.06-.94-2.06-.94-.94-2.06-.94 2.06-2.06.94zm-11 1L8.5 8.5l.94-2.06 2.06-.94-2.06-.94L8.5 2.5l-.94 2.06-2.06.94zm10 10l.94 2.06.94-2.06 2.06-.94-2.06-.94-.94-2.06-.94 2.06-2.06.94z\"/><path d=\"M17.41 7.96l-1.37-1.37c-.4-.4-.92-.59-1.43-.59-.52 0-1.04.2-1.43.59L10.3 9.45l-7.72 7.72c-.78.78-.78 2.05 0 2.83L4 21.41c.39.39.9.59 1.41.59.51 0 1.02-.2 1.41-.59l7.78-7.78 2.81-2.81c.8-.78.8-2.07 0-2.86zM5.41 20L4 18.59l7.72-7.72 1.47 1.35L5.41 20z\"/>\n",
              "  </svg>\n",
              "      </button>\n",
              "      \n",
              "  <style>\n",
              "    .colab-df-container {\n",
              "      display:flex;\n",
              "      flex-wrap:wrap;\n",
              "      gap: 12px;\n",
              "    }\n",
              "\n",
              "    .colab-df-convert {\n",
              "      background-color: #E8F0FE;\n",
              "      border: none;\n",
              "      border-radius: 50%;\n",
              "      cursor: pointer;\n",
              "      display: none;\n",
              "      fill: #1967D2;\n",
              "      height: 32px;\n",
              "      padding: 0 0 0 0;\n",
              "      width: 32px;\n",
              "    }\n",
              "\n",
              "    .colab-df-convert:hover {\n",
              "      background-color: #E2EBFA;\n",
              "      box-shadow: 0px 1px 2px rgba(60, 64, 67, 0.3), 0px 1px 3px 1px rgba(60, 64, 67, 0.15);\n",
              "      fill: #174EA6;\n",
              "    }\n",
              "\n",
              "    [theme=dark] .colab-df-convert {\n",
              "      background-color: #3B4455;\n",
              "      fill: #D2E3FC;\n",
              "    }\n",
              "\n",
              "    [theme=dark] .colab-df-convert:hover {\n",
              "      background-color: #434B5C;\n",
              "      box-shadow: 0px 1px 3px 1px rgba(0, 0, 0, 0.15);\n",
              "      filter: drop-shadow(0px 1px 2px rgba(0, 0, 0, 0.3));\n",
              "      fill: #FFFFFF;\n",
              "    }\n",
              "  </style>\n",
              "\n",
              "      <script>\n",
              "        const buttonEl =\n",
              "          document.querySelector('#df-1ff8d056-fc5d-4caf-9ba2-4061d819f913 button.colab-df-convert');\n",
              "        buttonEl.style.display =\n",
              "          google.colab.kernel.accessAllowed ? 'block' : 'none';\n",
              "\n",
              "        async function convertToInteractive(key) {\n",
              "          const element = document.querySelector('#df-1ff8d056-fc5d-4caf-9ba2-4061d819f913');\n",
              "          const dataTable =\n",
              "            await google.colab.kernel.invokeFunction('convertToInteractive',\n",
              "                                                     [key], {});\n",
              "          if (!dataTable) return;\n",
              "\n",
              "          const docLinkHtml = 'Like what you see? Visit the ' +\n",
              "            '<a target=\"_blank\" href=https://colab.research.google.com/notebooks/data_table.ipynb>data table notebook</a>'\n",
              "            + ' to learn more about interactive tables.';\n",
              "          element.innerHTML = '';\n",
              "          dataTable['output_type'] = 'display_data';\n",
              "          await google.colab.output.renderOutput(dataTable, element);\n",
              "          const docLink = document.createElement('div');\n",
              "          docLink.innerHTML = docLinkHtml;\n",
              "          element.appendChild(docLink);\n",
              "        }\n",
              "      </script>\n",
              "    </div>\n",
              "  </div>\n",
              "  "
            ]
          },
          "metadata": {},
          "execution_count": 246
        }
      ]
    }
  ]
}