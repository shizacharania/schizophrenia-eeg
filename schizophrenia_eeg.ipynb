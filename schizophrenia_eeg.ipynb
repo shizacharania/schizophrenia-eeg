{
  "nbformat": 4,
  "nbformat_minor": 0,
  "metadata": {
    "colab": {
      "provenance": []
    },
    "kernelspec": {
      "name": "python3",
      "display_name": "Python 3"
    },
    "language_info": {
      "name": "python"
    }
  },
  "cells": [
    {
      "cell_type": "code",
      "execution_count": 155,
      "metadata": {
        "colab": {
          "base_uri": "https://localhost:8080/"
        },
        "id": "PvaNIZ5YultT",
        "outputId": "356d7db8-7f62-4792-a008-9fb05853384a"
      },
      "outputs": [
        {
          "output_type": "stream",
          "name": "stdout",
          "text": [
            "Drive already mounted at /content/gdrive; to attempt to forcibly remount, call drive.mount(\"/content/gdrive\", force_remount=True).\n"
          ]
        }
      ],
      "source": [
        "from google.colab import drive\n",
        "drive.mount('/content/gdrive')"
      ]
    },
    {
      "cell_type": "code",
      "source": [
        "eeg_data = \"/content/gdrive/MyDrive/ERPdata.csv\"\n",
        "demographic_data = \"/content/gdrive/MyDrive/demographic.csv\""
      ],
      "metadata": {
        "id": "vF913G5Jum-u"
      },
      "execution_count": 156,
      "outputs": []
    },
    {
      "cell_type": "code",
      "source": [
        "import pandas as pd\n",
        "import csv\n",
        "import matplotlib.pyplot as plt\n",
        "import datetime as datetime\n",
        "import numpy as np"
      ],
      "metadata": {
        "id": "Lbeb-LykvRH2"
      },
      "execution_count": 157,
      "outputs": []
    },
    {
      "cell_type": "code",
      "source": [
        "# tutorial for csv file: https://youtu.be/y43_o2OnI68"
      ],
      "metadata": {
        "id": "_FXdUwn6vSEy"
      },
      "execution_count": 158,
      "outputs": []
    },
    {
      "cell_type": "code",
      "source": [
        "file1 = open(eeg_data)\n",
        "csv_reader1 = csv.reader(file1) # no need for  delimiter"
      ],
      "metadata": {
        "id": "FwrqbseMvVqY"
      },
      "execution_count": 159,
      "outputs": []
    },
    {
      "cell_type": "code",
      "source": [
        "file2 = open(demographic_data)\n",
        "csv_reader2 = csv.reader(file2) # no need for  delimiter"
      ],
      "metadata": {
        "id": "D2Pjl6C5DQLD"
      },
      "execution_count": 160,
      "outputs": []
    },
    {
      "cell_type": "code",
      "source": [
        "# just to visualize examples"
      ],
      "metadata": {
        "id": "85wYuapQvXB-"
      },
      "execution_count": 161,
      "outputs": []
    },
    {
      "cell_type": "code",
      "source": [
        "csv_header1 = next(csv_reader1)\n",
        "csv_header1"
      ],
      "metadata": {
        "colab": {
          "base_uri": "https://localhost:8080/"
        },
        "id": "kxex-5ELv1U6",
        "outputId": "44b6d527-7763-4c63-d5e8-3aa4d098ace1"
      },
      "execution_count": 162,
      "outputs": [
        {
          "output_type": "execute_result",
          "data": {
            "text/plain": [
              "['subject',\n",
              " 'condition',\n",
              " 'Fz',\n",
              " 'FCz',\n",
              " 'Cz',\n",
              " 'FC3',\n",
              " 'FC4',\n",
              " 'C3',\n",
              " 'C4',\n",
              " 'CP3',\n",
              " 'CP4',\n",
              " 'time_ms']"
            ]
          },
          "metadata": {},
          "execution_count": 162
        }
      ]
    },
    {
      "cell_type": "code",
      "source": [
        "csv_header2 = next(csv_reader2)\n",
        "csv_header2"
      ],
      "metadata": {
        "colab": {
          "base_uri": "https://localhost:8080/"
        },
        "id": "r6NB5HsXDU0c",
        "outputId": "8322105c-bcba-455c-cce2-b62c6dc8c6a0"
      },
      "execution_count": 163,
      "outputs": [
        {
          "output_type": "execute_result",
          "data": {
            "text/plain": [
              "['subject', ' group', ' gender', ' age', ' education']"
            ]
          },
          "metadata": {},
          "execution_count": 163
        }
      ]
    },
    {
      "cell_type": "code",
      "source": [
        "type(csv_header1)"
      ],
      "metadata": {
        "colab": {
          "base_uri": "https://localhost:8080/"
        },
        "id": "xhc2OT9Zv6Pd",
        "outputId": "11ddac14-b77c-4f83-9756-872336c4677f"
      },
      "execution_count": 164,
      "outputs": [
        {
          "output_type": "execute_result",
          "data": {
            "text/plain": [
              "list"
            ]
          },
          "metadata": {},
          "execution_count": 164
        }
      ]
    },
    {
      "cell_type": "code",
      "source": [
        "type(csv_header2)"
      ],
      "metadata": {
        "colab": {
          "base_uri": "https://localhost:8080/"
        },
        "id": "fn5W8LvsDnp7",
        "outputId": "ead94ab8-847f-435a-ef06-67b11e966cab"
      },
      "execution_count": 165,
      "outputs": [
        {
          "output_type": "execute_result",
          "data": {
            "text/plain": [
              "list"
            ]
          },
          "metadata": {},
          "execution_count": 165
        }
      ]
    },
    {
      "cell_type": "code",
      "source": [
        "# if you run this (in comments), then it automatically skips the first line when printing the pandas dataframe"
      ],
      "metadata": {
        "id": "mrN8yQeqv8Zq"
      },
      "execution_count": 166,
      "outputs": []
    },
    {
      "cell_type": "code",
      "source": [
        "# example_row_data_read1 = next(csv_reader1)\n",
        "# example_row_data1 = np.array(example_row_data_read1)"
      ],
      "metadata": {
        "id": "ucIks0bWv858"
      },
      "execution_count": 167,
      "outputs": []
    },
    {
      "cell_type": "code",
      "source": [
        "# example_row_data # U10 just means 'Unicode string of maximum length 10'"
      ],
      "metadata": {
        "id": "wvhYaEtIv_JB"
      },
      "execution_count": 168,
      "outputs": []
    },
    {
      "cell_type": "code",
      "source": [
        "# putting it in pandas dataframe\n",
        "df1 = pd.read_csv(filepath_or_buffer=file1, header=None, names=csv_header1, skiprows=0)\n",
        "df1"
      ],
      "metadata": {
        "colab": {
          "base_uri": "https://localhost:8080/",
          "height": 424
        },
        "id": "cVs_qogywBD5",
        "outputId": "7ef0098a-536e-4caf-c337-3f5314980c45"
      },
      "execution_count": 169,
      "outputs": [
        {
          "output_type": "execute_result",
          "data": {
            "text/plain": [
              "        subject  condition        Fz       FCz        Cz       FC3       FC4  \\\n",
              "0             1          1  5.533701  5.726507  5.469535  5.386723  4.588875   \n",
              "1             1          1  5.651489  5.837326  5.773131  5.627975  4.822217   \n",
              "2             1          1  5.717580  5.932924  5.948466  5.826460  4.979647   \n",
              "3             1          1  5.703267  5.968103  5.851512  5.812192  4.992899   \n",
              "4             1          1  5.571578  5.917541  5.812808  5.744715  4.963338   \n",
              "...         ...        ...       ...       ...       ...       ...       ...   \n",
              "746491       81          3 -0.401267  0.041014 -0.352556  0.712530 -0.427019   \n",
              "746492       81          3 -0.440294  0.093863 -0.422151  0.792209 -0.469230   \n",
              "746493       81          3 -0.466162  0.083799 -0.485091  0.799034 -0.466002   \n",
              "746494       81          3 -0.472620  0.003017 -0.465663  0.675452 -0.408777   \n",
              "746495       81          3 -0.496193  0.044210 -0.503998  0.711932 -0.426605   \n",
              "\n",
              "              C3        C4       CP3       CP4    time_ms  \n",
              "0       6.560092  4.542811  5.397492  5.103695 -1500.0000  \n",
              "1       6.739976  4.811770  5.541357  5.379273 -1499.0234  \n",
              "2       7.026199  5.053779  5.634972  5.600504 -1498.0469  \n",
              "3       6.940671  5.106650  5.543577  5.589775 -1497.0703  \n",
              "4       6.726491  5.158073  5.454069  5.614092 -1496.0938  \n",
              "...          ...       ...       ...       ...        ...  \n",
              "746491  0.479170  1.041864  0.645761 -0.085649  1495.1172  \n",
              "746492  0.486767  0.955658  0.601938 -0.264824  1496.0938  \n",
              "746493  0.516740  0.972635  0.612470 -0.463196  1497.0703  \n",
              "746494  0.558901  0.943028  0.635287 -0.656748  1498.0469  \n",
              "746495  0.672328  0.805889  0.602888 -0.719264  1499.0234  \n",
              "\n",
              "[746496 rows x 12 columns]"
            ],
            "text/html": [
              "\n",
              "  <div id=\"df-8549cddf-9239-4bb4-b18a-bdc811c587d9\">\n",
              "    <div class=\"colab-df-container\">\n",
              "      <div>\n",
              "<style scoped>\n",
              "    .dataframe tbody tr th:only-of-type {\n",
              "        vertical-align: middle;\n",
              "    }\n",
              "\n",
              "    .dataframe tbody tr th {\n",
              "        vertical-align: top;\n",
              "    }\n",
              "\n",
              "    .dataframe thead th {\n",
              "        text-align: right;\n",
              "    }\n",
              "</style>\n",
              "<table border=\"1\" class=\"dataframe\">\n",
              "  <thead>\n",
              "    <tr style=\"text-align: right;\">\n",
              "      <th></th>\n",
              "      <th>subject</th>\n",
              "      <th>condition</th>\n",
              "      <th>Fz</th>\n",
              "      <th>FCz</th>\n",
              "      <th>Cz</th>\n",
              "      <th>FC3</th>\n",
              "      <th>FC4</th>\n",
              "      <th>C3</th>\n",
              "      <th>C4</th>\n",
              "      <th>CP3</th>\n",
              "      <th>CP4</th>\n",
              "      <th>time_ms</th>\n",
              "    </tr>\n",
              "  </thead>\n",
              "  <tbody>\n",
              "    <tr>\n",
              "      <th>0</th>\n",
              "      <td>1</td>\n",
              "      <td>1</td>\n",
              "      <td>5.533701</td>\n",
              "      <td>5.726507</td>\n",
              "      <td>5.469535</td>\n",
              "      <td>5.386723</td>\n",
              "      <td>4.588875</td>\n",
              "      <td>6.560092</td>\n",
              "      <td>4.542811</td>\n",
              "      <td>5.397492</td>\n",
              "      <td>5.103695</td>\n",
              "      <td>-1500.0000</td>\n",
              "    </tr>\n",
              "    <tr>\n",
              "      <th>1</th>\n",
              "      <td>1</td>\n",
              "      <td>1</td>\n",
              "      <td>5.651489</td>\n",
              "      <td>5.837326</td>\n",
              "      <td>5.773131</td>\n",
              "      <td>5.627975</td>\n",
              "      <td>4.822217</td>\n",
              "      <td>6.739976</td>\n",
              "      <td>4.811770</td>\n",
              "      <td>5.541357</td>\n",
              "      <td>5.379273</td>\n",
              "      <td>-1499.0234</td>\n",
              "    </tr>\n",
              "    <tr>\n",
              "      <th>2</th>\n",
              "      <td>1</td>\n",
              "      <td>1</td>\n",
              "      <td>5.717580</td>\n",
              "      <td>5.932924</td>\n",
              "      <td>5.948466</td>\n",
              "      <td>5.826460</td>\n",
              "      <td>4.979647</td>\n",
              "      <td>7.026199</td>\n",
              "      <td>5.053779</td>\n",
              "      <td>5.634972</td>\n",
              "      <td>5.600504</td>\n",
              "      <td>-1498.0469</td>\n",
              "    </tr>\n",
              "    <tr>\n",
              "      <th>3</th>\n",
              "      <td>1</td>\n",
              "      <td>1</td>\n",
              "      <td>5.703267</td>\n",
              "      <td>5.968103</td>\n",
              "      <td>5.851512</td>\n",
              "      <td>5.812192</td>\n",
              "      <td>4.992899</td>\n",
              "      <td>6.940671</td>\n",
              "      <td>5.106650</td>\n",
              "      <td>5.543577</td>\n",
              "      <td>5.589775</td>\n",
              "      <td>-1497.0703</td>\n",
              "    </tr>\n",
              "    <tr>\n",
              "      <th>4</th>\n",
              "      <td>1</td>\n",
              "      <td>1</td>\n",
              "      <td>5.571578</td>\n",
              "      <td>5.917541</td>\n",
              "      <td>5.812808</td>\n",
              "      <td>5.744715</td>\n",
              "      <td>4.963338</td>\n",
              "      <td>6.726491</td>\n",
              "      <td>5.158073</td>\n",
              "      <td>5.454069</td>\n",
              "      <td>5.614092</td>\n",
              "      <td>-1496.0938</td>\n",
              "    </tr>\n",
              "    <tr>\n",
              "      <th>...</th>\n",
              "      <td>...</td>\n",
              "      <td>...</td>\n",
              "      <td>...</td>\n",
              "      <td>...</td>\n",
              "      <td>...</td>\n",
              "      <td>...</td>\n",
              "      <td>...</td>\n",
              "      <td>...</td>\n",
              "      <td>...</td>\n",
              "      <td>...</td>\n",
              "      <td>...</td>\n",
              "      <td>...</td>\n",
              "    </tr>\n",
              "    <tr>\n",
              "      <th>746491</th>\n",
              "      <td>81</td>\n",
              "      <td>3</td>\n",
              "      <td>-0.401267</td>\n",
              "      <td>0.041014</td>\n",
              "      <td>-0.352556</td>\n",
              "      <td>0.712530</td>\n",
              "      <td>-0.427019</td>\n",
              "      <td>0.479170</td>\n",
              "      <td>1.041864</td>\n",
              "      <td>0.645761</td>\n",
              "      <td>-0.085649</td>\n",
              "      <td>1495.1172</td>\n",
              "    </tr>\n",
              "    <tr>\n",
              "      <th>746492</th>\n",
              "      <td>81</td>\n",
              "      <td>3</td>\n",
              "      <td>-0.440294</td>\n",
              "      <td>0.093863</td>\n",
              "      <td>-0.422151</td>\n",
              "      <td>0.792209</td>\n",
              "      <td>-0.469230</td>\n",
              "      <td>0.486767</td>\n",
              "      <td>0.955658</td>\n",
              "      <td>0.601938</td>\n",
              "      <td>-0.264824</td>\n",
              "      <td>1496.0938</td>\n",
              "    </tr>\n",
              "    <tr>\n",
              "      <th>746493</th>\n",
              "      <td>81</td>\n",
              "      <td>3</td>\n",
              "      <td>-0.466162</td>\n",
              "      <td>0.083799</td>\n",
              "      <td>-0.485091</td>\n",
              "      <td>0.799034</td>\n",
              "      <td>-0.466002</td>\n",
              "      <td>0.516740</td>\n",
              "      <td>0.972635</td>\n",
              "      <td>0.612470</td>\n",
              "      <td>-0.463196</td>\n",
              "      <td>1497.0703</td>\n",
              "    </tr>\n",
              "    <tr>\n",
              "      <th>746494</th>\n",
              "      <td>81</td>\n",
              "      <td>3</td>\n",
              "      <td>-0.472620</td>\n",
              "      <td>0.003017</td>\n",
              "      <td>-0.465663</td>\n",
              "      <td>0.675452</td>\n",
              "      <td>-0.408777</td>\n",
              "      <td>0.558901</td>\n",
              "      <td>0.943028</td>\n",
              "      <td>0.635287</td>\n",
              "      <td>-0.656748</td>\n",
              "      <td>1498.0469</td>\n",
              "    </tr>\n",
              "    <tr>\n",
              "      <th>746495</th>\n",
              "      <td>81</td>\n",
              "      <td>3</td>\n",
              "      <td>-0.496193</td>\n",
              "      <td>0.044210</td>\n",
              "      <td>-0.503998</td>\n",
              "      <td>0.711932</td>\n",
              "      <td>-0.426605</td>\n",
              "      <td>0.672328</td>\n",
              "      <td>0.805889</td>\n",
              "      <td>0.602888</td>\n",
              "      <td>-0.719264</td>\n",
              "      <td>1499.0234</td>\n",
              "    </tr>\n",
              "  </tbody>\n",
              "</table>\n",
              "<p>746496 rows × 12 columns</p>\n",
              "</div>\n",
              "      <button class=\"colab-df-convert\" onclick=\"convertToInteractive('df-8549cddf-9239-4bb4-b18a-bdc811c587d9')\"\n",
              "              title=\"Convert this dataframe to an interactive table.\"\n",
              "              style=\"display:none;\">\n",
              "        \n",
              "  <svg xmlns=\"http://www.w3.org/2000/svg\" height=\"24px\"viewBox=\"0 0 24 24\"\n",
              "       width=\"24px\">\n",
              "    <path d=\"M0 0h24v24H0V0z\" fill=\"none\"/>\n",
              "    <path d=\"M18.56 5.44l.94 2.06.94-2.06 2.06-.94-2.06-.94-.94-2.06-.94 2.06-2.06.94zm-11 1L8.5 8.5l.94-2.06 2.06-.94-2.06-.94L8.5 2.5l-.94 2.06-2.06.94zm10 10l.94 2.06.94-2.06 2.06-.94-2.06-.94-.94-2.06-.94 2.06-2.06.94z\"/><path d=\"M17.41 7.96l-1.37-1.37c-.4-.4-.92-.59-1.43-.59-.52 0-1.04.2-1.43.59L10.3 9.45l-7.72 7.72c-.78.78-.78 2.05 0 2.83L4 21.41c.39.39.9.59 1.41.59.51 0 1.02-.2 1.41-.59l7.78-7.78 2.81-2.81c.8-.78.8-2.07 0-2.86zM5.41 20L4 18.59l7.72-7.72 1.47 1.35L5.41 20z\"/>\n",
              "  </svg>\n",
              "      </button>\n",
              "      \n",
              "  <style>\n",
              "    .colab-df-container {\n",
              "      display:flex;\n",
              "      flex-wrap:wrap;\n",
              "      gap: 12px;\n",
              "    }\n",
              "\n",
              "    .colab-df-convert {\n",
              "      background-color: #E8F0FE;\n",
              "      border: none;\n",
              "      border-radius: 50%;\n",
              "      cursor: pointer;\n",
              "      display: none;\n",
              "      fill: #1967D2;\n",
              "      height: 32px;\n",
              "      padding: 0 0 0 0;\n",
              "      width: 32px;\n",
              "    }\n",
              "\n",
              "    .colab-df-convert:hover {\n",
              "      background-color: #E2EBFA;\n",
              "      box-shadow: 0px 1px 2px rgba(60, 64, 67, 0.3), 0px 1px 3px 1px rgba(60, 64, 67, 0.15);\n",
              "      fill: #174EA6;\n",
              "    }\n",
              "\n",
              "    [theme=dark] .colab-df-convert {\n",
              "      background-color: #3B4455;\n",
              "      fill: #D2E3FC;\n",
              "    }\n",
              "\n",
              "    [theme=dark] .colab-df-convert:hover {\n",
              "      background-color: #434B5C;\n",
              "      box-shadow: 0px 1px 3px 1px rgba(0, 0, 0, 0.15);\n",
              "      filter: drop-shadow(0px 1px 2px rgba(0, 0, 0, 0.3));\n",
              "      fill: #FFFFFF;\n",
              "    }\n",
              "  </style>\n",
              "\n",
              "      <script>\n",
              "        const buttonEl =\n",
              "          document.querySelector('#df-8549cddf-9239-4bb4-b18a-bdc811c587d9 button.colab-df-convert');\n",
              "        buttonEl.style.display =\n",
              "          google.colab.kernel.accessAllowed ? 'block' : 'none';\n",
              "\n",
              "        async function convertToInteractive(key) {\n",
              "          const element = document.querySelector('#df-8549cddf-9239-4bb4-b18a-bdc811c587d9');\n",
              "          const dataTable =\n",
              "            await google.colab.kernel.invokeFunction('convertToInteractive',\n",
              "                                                     [key], {});\n",
              "          if (!dataTable) return;\n",
              "\n",
              "          const docLinkHtml = 'Like what you see? Visit the ' +\n",
              "            '<a target=\"_blank\" href=https://colab.research.google.com/notebooks/data_table.ipynb>data table notebook</a>'\n",
              "            + ' to learn more about interactive tables.';\n",
              "          element.innerHTML = '';\n",
              "          dataTable['output_type'] = 'display_data';\n",
              "          await google.colab.output.renderOutput(dataTable, element);\n",
              "          const docLink = document.createElement('div');\n",
              "          docLink.innerHTML = docLinkHtml;\n",
              "          element.appendChild(docLink);\n",
              "        }\n",
              "      </script>\n",
              "    </div>\n",
              "  </div>\n",
              "  "
            ]
          },
          "metadata": {},
          "execution_count": 169
        }
      ]
    },
    {
      "cell_type": "code",
      "source": [
        "# putting it in pandas dataframe\n",
        "df2 = pd.read_csv(filepath_or_buffer=file2, header=None, names=csv_header2, skiprows=0)\n",
        "df2"
      ],
      "metadata": {
        "colab": {
          "base_uri": "https://localhost:8080/",
          "height": 424
        },
        "id": "KcsbLhz5Dqcd",
        "outputId": "205ea791-26d1-487f-80b7-7716c3209830"
      },
      "execution_count": 170,
      "outputs": [
        {
          "output_type": "execute_result",
          "data": {
            "text/plain": [
              "    subject   group  gender   age   education\n",
              "0         1       0       M    44        16.0\n",
              "1         2       0       M    39        17.0\n",
              "2         3       0       M    53        18.0\n",
              "3         4       0       M    52        15.0\n",
              "4         5       0       M    41        16.0\n",
              "..      ...     ...     ...   ...         ...\n",
              "76       77       1       M    28        13.0\n",
              "77       78       1       F    32        16.0\n",
              "78       79       1       M    37        16.0\n",
              "79       80       1       M    33        13.0\n",
              "80       81       1       M    56        13.0\n",
              "\n",
              "[81 rows x 5 columns]"
            ],
            "text/html": [
              "\n",
              "  <div id=\"df-8fcd80e2-d5d5-4e4a-b7e9-4f383718ccbf\">\n",
              "    <div class=\"colab-df-container\">\n",
              "      <div>\n",
              "<style scoped>\n",
              "    .dataframe tbody tr th:only-of-type {\n",
              "        vertical-align: middle;\n",
              "    }\n",
              "\n",
              "    .dataframe tbody tr th {\n",
              "        vertical-align: top;\n",
              "    }\n",
              "\n",
              "    .dataframe thead th {\n",
              "        text-align: right;\n",
              "    }\n",
              "</style>\n",
              "<table border=\"1\" class=\"dataframe\">\n",
              "  <thead>\n",
              "    <tr style=\"text-align: right;\">\n",
              "      <th></th>\n",
              "      <th>subject</th>\n",
              "      <th>group</th>\n",
              "      <th>gender</th>\n",
              "      <th>age</th>\n",
              "      <th>education</th>\n",
              "    </tr>\n",
              "  </thead>\n",
              "  <tbody>\n",
              "    <tr>\n",
              "      <th>0</th>\n",
              "      <td>1</td>\n",
              "      <td>0</td>\n",
              "      <td>M</td>\n",
              "      <td>44</td>\n",
              "      <td>16.0</td>\n",
              "    </tr>\n",
              "    <tr>\n",
              "      <th>1</th>\n",
              "      <td>2</td>\n",
              "      <td>0</td>\n",
              "      <td>M</td>\n",
              "      <td>39</td>\n",
              "      <td>17.0</td>\n",
              "    </tr>\n",
              "    <tr>\n",
              "      <th>2</th>\n",
              "      <td>3</td>\n",
              "      <td>0</td>\n",
              "      <td>M</td>\n",
              "      <td>53</td>\n",
              "      <td>18.0</td>\n",
              "    </tr>\n",
              "    <tr>\n",
              "      <th>3</th>\n",
              "      <td>4</td>\n",
              "      <td>0</td>\n",
              "      <td>M</td>\n",
              "      <td>52</td>\n",
              "      <td>15.0</td>\n",
              "    </tr>\n",
              "    <tr>\n",
              "      <th>4</th>\n",
              "      <td>5</td>\n",
              "      <td>0</td>\n",
              "      <td>M</td>\n",
              "      <td>41</td>\n",
              "      <td>16.0</td>\n",
              "    </tr>\n",
              "    <tr>\n",
              "      <th>...</th>\n",
              "      <td>...</td>\n",
              "      <td>...</td>\n",
              "      <td>...</td>\n",
              "      <td>...</td>\n",
              "      <td>...</td>\n",
              "    </tr>\n",
              "    <tr>\n",
              "      <th>76</th>\n",
              "      <td>77</td>\n",
              "      <td>1</td>\n",
              "      <td>M</td>\n",
              "      <td>28</td>\n",
              "      <td>13.0</td>\n",
              "    </tr>\n",
              "    <tr>\n",
              "      <th>77</th>\n",
              "      <td>78</td>\n",
              "      <td>1</td>\n",
              "      <td>F</td>\n",
              "      <td>32</td>\n",
              "      <td>16.0</td>\n",
              "    </tr>\n",
              "    <tr>\n",
              "      <th>78</th>\n",
              "      <td>79</td>\n",
              "      <td>1</td>\n",
              "      <td>M</td>\n",
              "      <td>37</td>\n",
              "      <td>16.0</td>\n",
              "    </tr>\n",
              "    <tr>\n",
              "      <th>79</th>\n",
              "      <td>80</td>\n",
              "      <td>1</td>\n",
              "      <td>M</td>\n",
              "      <td>33</td>\n",
              "      <td>13.0</td>\n",
              "    </tr>\n",
              "    <tr>\n",
              "      <th>80</th>\n",
              "      <td>81</td>\n",
              "      <td>1</td>\n",
              "      <td>M</td>\n",
              "      <td>56</td>\n",
              "      <td>13.0</td>\n",
              "    </tr>\n",
              "  </tbody>\n",
              "</table>\n",
              "<p>81 rows × 5 columns</p>\n",
              "</div>\n",
              "      <button class=\"colab-df-convert\" onclick=\"convertToInteractive('df-8fcd80e2-d5d5-4e4a-b7e9-4f383718ccbf')\"\n",
              "              title=\"Convert this dataframe to an interactive table.\"\n",
              "              style=\"display:none;\">\n",
              "        \n",
              "  <svg xmlns=\"http://www.w3.org/2000/svg\" height=\"24px\"viewBox=\"0 0 24 24\"\n",
              "       width=\"24px\">\n",
              "    <path d=\"M0 0h24v24H0V0z\" fill=\"none\"/>\n",
              "    <path d=\"M18.56 5.44l.94 2.06.94-2.06 2.06-.94-2.06-.94-.94-2.06-.94 2.06-2.06.94zm-11 1L8.5 8.5l.94-2.06 2.06-.94-2.06-.94L8.5 2.5l-.94 2.06-2.06.94zm10 10l.94 2.06.94-2.06 2.06-.94-2.06-.94-.94-2.06-.94 2.06-2.06.94z\"/><path d=\"M17.41 7.96l-1.37-1.37c-.4-.4-.92-.59-1.43-.59-.52 0-1.04.2-1.43.59L10.3 9.45l-7.72 7.72c-.78.78-.78 2.05 0 2.83L4 21.41c.39.39.9.59 1.41.59.51 0 1.02-.2 1.41-.59l7.78-7.78 2.81-2.81c.8-.78.8-2.07 0-2.86zM5.41 20L4 18.59l7.72-7.72 1.47 1.35L5.41 20z\"/>\n",
              "  </svg>\n",
              "      </button>\n",
              "      \n",
              "  <style>\n",
              "    .colab-df-container {\n",
              "      display:flex;\n",
              "      flex-wrap:wrap;\n",
              "      gap: 12px;\n",
              "    }\n",
              "\n",
              "    .colab-df-convert {\n",
              "      background-color: #E8F0FE;\n",
              "      border: none;\n",
              "      border-radius: 50%;\n",
              "      cursor: pointer;\n",
              "      display: none;\n",
              "      fill: #1967D2;\n",
              "      height: 32px;\n",
              "      padding: 0 0 0 0;\n",
              "      width: 32px;\n",
              "    }\n",
              "\n",
              "    .colab-df-convert:hover {\n",
              "      background-color: #E2EBFA;\n",
              "      box-shadow: 0px 1px 2px rgba(60, 64, 67, 0.3), 0px 1px 3px 1px rgba(60, 64, 67, 0.15);\n",
              "      fill: #174EA6;\n",
              "    }\n",
              "\n",
              "    [theme=dark] .colab-df-convert {\n",
              "      background-color: #3B4455;\n",
              "      fill: #D2E3FC;\n",
              "    }\n",
              "\n",
              "    [theme=dark] .colab-df-convert:hover {\n",
              "      background-color: #434B5C;\n",
              "      box-shadow: 0px 1px 3px 1px rgba(0, 0, 0, 0.15);\n",
              "      filter: drop-shadow(0px 1px 2px rgba(0, 0, 0, 0.3));\n",
              "      fill: #FFFFFF;\n",
              "    }\n",
              "  </style>\n",
              "\n",
              "      <script>\n",
              "        const buttonEl =\n",
              "          document.querySelector('#df-8fcd80e2-d5d5-4e4a-b7e9-4f383718ccbf button.colab-df-convert');\n",
              "        buttonEl.style.display =\n",
              "          google.colab.kernel.accessAllowed ? 'block' : 'none';\n",
              "\n",
              "        async function convertToInteractive(key) {\n",
              "          const element = document.querySelector('#df-8fcd80e2-d5d5-4e4a-b7e9-4f383718ccbf');\n",
              "          const dataTable =\n",
              "            await google.colab.kernel.invokeFunction('convertToInteractive',\n",
              "                                                     [key], {});\n",
              "          if (!dataTable) return;\n",
              "\n",
              "          const docLinkHtml = 'Like what you see? Visit the ' +\n",
              "            '<a target=\"_blank\" href=https://colab.research.google.com/notebooks/data_table.ipynb>data table notebook</a>'\n",
              "            + ' to learn more about interactive tables.';\n",
              "          element.innerHTML = '';\n",
              "          dataTable['output_type'] = 'display_data';\n",
              "          await google.colab.output.renderOutput(dataTable, element);\n",
              "          const docLink = document.createElement('div');\n",
              "          docLink.innerHTML = docLinkHtml;\n",
              "          element.appendChild(docLink);\n",
              "        }\n",
              "      </script>\n",
              "    </div>\n",
              "  </div>\n",
              "  "
            ]
          },
          "metadata": {},
          "execution_count": 170
        }
      ]
    },
    {
      "cell_type": "code",
      "source": [
        "df1.shape\n",
        "# 9 channels"
      ],
      "metadata": {
        "colab": {
          "base_uri": "https://localhost:8080/"
        },
        "id": "uuZC5SmmwdZ4",
        "outputId": "60aaa105-f3df-4401-9466-c017d33cab69"
      },
      "execution_count": 171,
      "outputs": [
        {
          "output_type": "execute_result",
          "data": {
            "text/plain": [
              "(746496, 12)"
            ]
          },
          "metadata": {},
          "execution_count": 171
        }
      ]
    },
    {
      "cell_type": "code",
      "source": [
        "df2.shape\n",
        "# 81 subjects, 5 characteristics "
      ],
      "metadata": {
        "colab": {
          "base_uri": "https://localhost:8080/"
        },
        "id": "IgFeVhdGD07I",
        "outputId": "fa14bebe-3742-4c1e-e731-6f89d5947795"
      },
      "execution_count": 172,
      "outputs": [
        {
          "output_type": "execute_result",
          "data": {
            "text/plain": [
              "(81, 5)"
            ]
          },
          "metadata": {},
          "execution_count": 172
        }
      ]
    },
    {
      "cell_type": "code",
      "source": [
        "group = df2[' group']\n",
        "print(group)\n",
        "print(group.shape)"
      ],
      "metadata": {
        "colab": {
          "base_uri": "https://localhost:8080/"
        },
        "id": "gBBTPbegEDdE",
        "outputId": "0bbe881d-c230-4aa9-9e33-87dd1b953e79"
      },
      "execution_count": 173,
      "outputs": [
        {
          "output_type": "stream",
          "name": "stdout",
          "text": [
            "0     0\n",
            "1     0\n",
            "2     0\n",
            "3     0\n",
            "4     0\n",
            "     ..\n",
            "76    1\n",
            "77    1\n",
            "78    1\n",
            "79    1\n",
            "80    1\n",
            "Name:  group, Length: 81, dtype: int64\n",
            "(81,)\n"
          ]
        }
      ]
    },
    {
      "cell_type": "code",
      "source": [
        "diagnosis = []\n",
        "for i in range(group.shape[0]):\n",
        "  num = df2[' group'][i]\n",
        "  for i in range(9216):\n",
        "    diagnosis.append(num)"
      ],
      "metadata": {
        "id": "GucgaePlH5P5"
      },
      "execution_count": 174,
      "outputs": []
    },
    {
      "cell_type": "code",
      "source": [
        "print(len(diagnosis))"
      ],
      "metadata": {
        "colab": {
          "base_uri": "https://localhost:8080/"
        },
        "id": "rccm4kIoIole",
        "outputId": "d769fba8-db1b-4857-81d8-326f32ec4d42"
      },
      "execution_count": 175,
      "outputs": [
        {
          "output_type": "stream",
          "name": "stdout",
          "text": [
            "746496\n"
          ]
        }
      ]
    },
    {
      "cell_type": "code",
      "source": [
        "df1.insert(1, \"diagnosis\", diagnosis)"
      ],
      "metadata": {
        "id": "v64lYSIyHZY6"
      },
      "execution_count": 176,
      "outputs": []
    },
    {
      "cell_type": "code",
      "source": [
        "df1"
      ],
      "metadata": {
        "colab": {
          "base_uri": "https://localhost:8080/",
          "height": 424
        },
        "id": "2HTLgJhoHwNa",
        "outputId": "b76734d9-326b-46dc-e73d-8905fe3b10d9"
      },
      "execution_count": 177,
      "outputs": [
        {
          "output_type": "execute_result",
          "data": {
            "text/plain": [
              "        subject  diagnosis  condition        Fz       FCz        Cz       FC3  \\\n",
              "0             1          0          1  5.533701  5.726507  5.469535  5.386723   \n",
              "1             1          0          1  5.651489  5.837326  5.773131  5.627975   \n",
              "2             1          0          1  5.717580  5.932924  5.948466  5.826460   \n",
              "3             1          0          1  5.703267  5.968103  5.851512  5.812192   \n",
              "4             1          0          1  5.571578  5.917541  5.812808  5.744715   \n",
              "...         ...        ...        ...       ...       ...       ...       ...   \n",
              "746491       81          1          3 -0.401267  0.041014 -0.352556  0.712530   \n",
              "746492       81          1          3 -0.440294  0.093863 -0.422151  0.792209   \n",
              "746493       81          1          3 -0.466162  0.083799 -0.485091  0.799034   \n",
              "746494       81          1          3 -0.472620  0.003017 -0.465663  0.675452   \n",
              "746495       81          1          3 -0.496193  0.044210 -0.503998  0.711932   \n",
              "\n",
              "             FC4        C3        C4       CP3       CP4    time_ms  \n",
              "0       4.588875  6.560092  4.542811  5.397492  5.103695 -1500.0000  \n",
              "1       4.822217  6.739976  4.811770  5.541357  5.379273 -1499.0234  \n",
              "2       4.979647  7.026199  5.053779  5.634972  5.600504 -1498.0469  \n",
              "3       4.992899  6.940671  5.106650  5.543577  5.589775 -1497.0703  \n",
              "4       4.963338  6.726491  5.158073  5.454069  5.614092 -1496.0938  \n",
              "...          ...       ...       ...       ...       ...        ...  \n",
              "746491 -0.427019  0.479170  1.041864  0.645761 -0.085649  1495.1172  \n",
              "746492 -0.469230  0.486767  0.955658  0.601938 -0.264824  1496.0938  \n",
              "746493 -0.466002  0.516740  0.972635  0.612470 -0.463196  1497.0703  \n",
              "746494 -0.408777  0.558901  0.943028  0.635287 -0.656748  1498.0469  \n",
              "746495 -0.426605  0.672328  0.805889  0.602888 -0.719264  1499.0234  \n",
              "\n",
              "[746496 rows x 13 columns]"
            ],
            "text/html": [
              "\n",
              "  <div id=\"df-3d8ac2c3-97fd-4976-b8c3-1e727a43c06f\">\n",
              "    <div class=\"colab-df-container\">\n",
              "      <div>\n",
              "<style scoped>\n",
              "    .dataframe tbody tr th:only-of-type {\n",
              "        vertical-align: middle;\n",
              "    }\n",
              "\n",
              "    .dataframe tbody tr th {\n",
              "        vertical-align: top;\n",
              "    }\n",
              "\n",
              "    .dataframe thead th {\n",
              "        text-align: right;\n",
              "    }\n",
              "</style>\n",
              "<table border=\"1\" class=\"dataframe\">\n",
              "  <thead>\n",
              "    <tr style=\"text-align: right;\">\n",
              "      <th></th>\n",
              "      <th>subject</th>\n",
              "      <th>diagnosis</th>\n",
              "      <th>condition</th>\n",
              "      <th>Fz</th>\n",
              "      <th>FCz</th>\n",
              "      <th>Cz</th>\n",
              "      <th>FC3</th>\n",
              "      <th>FC4</th>\n",
              "      <th>C3</th>\n",
              "      <th>C4</th>\n",
              "      <th>CP3</th>\n",
              "      <th>CP4</th>\n",
              "      <th>time_ms</th>\n",
              "    </tr>\n",
              "  </thead>\n",
              "  <tbody>\n",
              "    <tr>\n",
              "      <th>0</th>\n",
              "      <td>1</td>\n",
              "      <td>0</td>\n",
              "      <td>1</td>\n",
              "      <td>5.533701</td>\n",
              "      <td>5.726507</td>\n",
              "      <td>5.469535</td>\n",
              "      <td>5.386723</td>\n",
              "      <td>4.588875</td>\n",
              "      <td>6.560092</td>\n",
              "      <td>4.542811</td>\n",
              "      <td>5.397492</td>\n",
              "      <td>5.103695</td>\n",
              "      <td>-1500.0000</td>\n",
              "    </tr>\n",
              "    <tr>\n",
              "      <th>1</th>\n",
              "      <td>1</td>\n",
              "      <td>0</td>\n",
              "      <td>1</td>\n",
              "      <td>5.651489</td>\n",
              "      <td>5.837326</td>\n",
              "      <td>5.773131</td>\n",
              "      <td>5.627975</td>\n",
              "      <td>4.822217</td>\n",
              "      <td>6.739976</td>\n",
              "      <td>4.811770</td>\n",
              "      <td>5.541357</td>\n",
              "      <td>5.379273</td>\n",
              "      <td>-1499.0234</td>\n",
              "    </tr>\n",
              "    <tr>\n",
              "      <th>2</th>\n",
              "      <td>1</td>\n",
              "      <td>0</td>\n",
              "      <td>1</td>\n",
              "      <td>5.717580</td>\n",
              "      <td>5.932924</td>\n",
              "      <td>5.948466</td>\n",
              "      <td>5.826460</td>\n",
              "      <td>4.979647</td>\n",
              "      <td>7.026199</td>\n",
              "      <td>5.053779</td>\n",
              "      <td>5.634972</td>\n",
              "      <td>5.600504</td>\n",
              "      <td>-1498.0469</td>\n",
              "    </tr>\n",
              "    <tr>\n",
              "      <th>3</th>\n",
              "      <td>1</td>\n",
              "      <td>0</td>\n",
              "      <td>1</td>\n",
              "      <td>5.703267</td>\n",
              "      <td>5.968103</td>\n",
              "      <td>5.851512</td>\n",
              "      <td>5.812192</td>\n",
              "      <td>4.992899</td>\n",
              "      <td>6.940671</td>\n",
              "      <td>5.106650</td>\n",
              "      <td>5.543577</td>\n",
              "      <td>5.589775</td>\n",
              "      <td>-1497.0703</td>\n",
              "    </tr>\n",
              "    <tr>\n",
              "      <th>4</th>\n",
              "      <td>1</td>\n",
              "      <td>0</td>\n",
              "      <td>1</td>\n",
              "      <td>5.571578</td>\n",
              "      <td>5.917541</td>\n",
              "      <td>5.812808</td>\n",
              "      <td>5.744715</td>\n",
              "      <td>4.963338</td>\n",
              "      <td>6.726491</td>\n",
              "      <td>5.158073</td>\n",
              "      <td>5.454069</td>\n",
              "      <td>5.614092</td>\n",
              "      <td>-1496.0938</td>\n",
              "    </tr>\n",
              "    <tr>\n",
              "      <th>...</th>\n",
              "      <td>...</td>\n",
              "      <td>...</td>\n",
              "      <td>...</td>\n",
              "      <td>...</td>\n",
              "      <td>...</td>\n",
              "      <td>...</td>\n",
              "      <td>...</td>\n",
              "      <td>...</td>\n",
              "      <td>...</td>\n",
              "      <td>...</td>\n",
              "      <td>...</td>\n",
              "      <td>...</td>\n",
              "      <td>...</td>\n",
              "    </tr>\n",
              "    <tr>\n",
              "      <th>746491</th>\n",
              "      <td>81</td>\n",
              "      <td>1</td>\n",
              "      <td>3</td>\n",
              "      <td>-0.401267</td>\n",
              "      <td>0.041014</td>\n",
              "      <td>-0.352556</td>\n",
              "      <td>0.712530</td>\n",
              "      <td>-0.427019</td>\n",
              "      <td>0.479170</td>\n",
              "      <td>1.041864</td>\n",
              "      <td>0.645761</td>\n",
              "      <td>-0.085649</td>\n",
              "      <td>1495.1172</td>\n",
              "    </tr>\n",
              "    <tr>\n",
              "      <th>746492</th>\n",
              "      <td>81</td>\n",
              "      <td>1</td>\n",
              "      <td>3</td>\n",
              "      <td>-0.440294</td>\n",
              "      <td>0.093863</td>\n",
              "      <td>-0.422151</td>\n",
              "      <td>0.792209</td>\n",
              "      <td>-0.469230</td>\n",
              "      <td>0.486767</td>\n",
              "      <td>0.955658</td>\n",
              "      <td>0.601938</td>\n",
              "      <td>-0.264824</td>\n",
              "      <td>1496.0938</td>\n",
              "    </tr>\n",
              "    <tr>\n",
              "      <th>746493</th>\n",
              "      <td>81</td>\n",
              "      <td>1</td>\n",
              "      <td>3</td>\n",
              "      <td>-0.466162</td>\n",
              "      <td>0.083799</td>\n",
              "      <td>-0.485091</td>\n",
              "      <td>0.799034</td>\n",
              "      <td>-0.466002</td>\n",
              "      <td>0.516740</td>\n",
              "      <td>0.972635</td>\n",
              "      <td>0.612470</td>\n",
              "      <td>-0.463196</td>\n",
              "      <td>1497.0703</td>\n",
              "    </tr>\n",
              "    <tr>\n",
              "      <th>746494</th>\n",
              "      <td>81</td>\n",
              "      <td>1</td>\n",
              "      <td>3</td>\n",
              "      <td>-0.472620</td>\n",
              "      <td>0.003017</td>\n",
              "      <td>-0.465663</td>\n",
              "      <td>0.675452</td>\n",
              "      <td>-0.408777</td>\n",
              "      <td>0.558901</td>\n",
              "      <td>0.943028</td>\n",
              "      <td>0.635287</td>\n",
              "      <td>-0.656748</td>\n",
              "      <td>1498.0469</td>\n",
              "    </tr>\n",
              "    <tr>\n",
              "      <th>746495</th>\n",
              "      <td>81</td>\n",
              "      <td>1</td>\n",
              "      <td>3</td>\n",
              "      <td>-0.496193</td>\n",
              "      <td>0.044210</td>\n",
              "      <td>-0.503998</td>\n",
              "      <td>0.711932</td>\n",
              "      <td>-0.426605</td>\n",
              "      <td>0.672328</td>\n",
              "      <td>0.805889</td>\n",
              "      <td>0.602888</td>\n",
              "      <td>-0.719264</td>\n",
              "      <td>1499.0234</td>\n",
              "    </tr>\n",
              "  </tbody>\n",
              "</table>\n",
              "<p>746496 rows × 13 columns</p>\n",
              "</div>\n",
              "      <button class=\"colab-df-convert\" onclick=\"convertToInteractive('df-3d8ac2c3-97fd-4976-b8c3-1e727a43c06f')\"\n",
              "              title=\"Convert this dataframe to an interactive table.\"\n",
              "              style=\"display:none;\">\n",
              "        \n",
              "  <svg xmlns=\"http://www.w3.org/2000/svg\" height=\"24px\"viewBox=\"0 0 24 24\"\n",
              "       width=\"24px\">\n",
              "    <path d=\"M0 0h24v24H0V0z\" fill=\"none\"/>\n",
              "    <path d=\"M18.56 5.44l.94 2.06.94-2.06 2.06-.94-2.06-.94-.94-2.06-.94 2.06-2.06.94zm-11 1L8.5 8.5l.94-2.06 2.06-.94-2.06-.94L8.5 2.5l-.94 2.06-2.06.94zm10 10l.94 2.06.94-2.06 2.06-.94-2.06-.94-.94-2.06-.94 2.06-2.06.94z\"/><path d=\"M17.41 7.96l-1.37-1.37c-.4-.4-.92-.59-1.43-.59-.52 0-1.04.2-1.43.59L10.3 9.45l-7.72 7.72c-.78.78-.78 2.05 0 2.83L4 21.41c.39.39.9.59 1.41.59.51 0 1.02-.2 1.41-.59l7.78-7.78 2.81-2.81c.8-.78.8-2.07 0-2.86zM5.41 20L4 18.59l7.72-7.72 1.47 1.35L5.41 20z\"/>\n",
              "  </svg>\n",
              "      </button>\n",
              "      \n",
              "  <style>\n",
              "    .colab-df-container {\n",
              "      display:flex;\n",
              "      flex-wrap:wrap;\n",
              "      gap: 12px;\n",
              "    }\n",
              "\n",
              "    .colab-df-convert {\n",
              "      background-color: #E8F0FE;\n",
              "      border: none;\n",
              "      border-radius: 50%;\n",
              "      cursor: pointer;\n",
              "      display: none;\n",
              "      fill: #1967D2;\n",
              "      height: 32px;\n",
              "      padding: 0 0 0 0;\n",
              "      width: 32px;\n",
              "    }\n",
              "\n",
              "    .colab-df-convert:hover {\n",
              "      background-color: #E2EBFA;\n",
              "      box-shadow: 0px 1px 2px rgba(60, 64, 67, 0.3), 0px 1px 3px 1px rgba(60, 64, 67, 0.15);\n",
              "      fill: #174EA6;\n",
              "    }\n",
              "\n",
              "    [theme=dark] .colab-df-convert {\n",
              "      background-color: #3B4455;\n",
              "      fill: #D2E3FC;\n",
              "    }\n",
              "\n",
              "    [theme=dark] .colab-df-convert:hover {\n",
              "      background-color: #434B5C;\n",
              "      box-shadow: 0px 1px 3px 1px rgba(0, 0, 0, 0.15);\n",
              "      filter: drop-shadow(0px 1px 2px rgba(0, 0, 0, 0.3));\n",
              "      fill: #FFFFFF;\n",
              "    }\n",
              "  </style>\n",
              "\n",
              "      <script>\n",
              "        const buttonEl =\n",
              "          document.querySelector('#df-3d8ac2c3-97fd-4976-b8c3-1e727a43c06f button.colab-df-convert');\n",
              "        buttonEl.style.display =\n",
              "          google.colab.kernel.accessAllowed ? 'block' : 'none';\n",
              "\n",
              "        async function convertToInteractive(key) {\n",
              "          const element = document.querySelector('#df-3d8ac2c3-97fd-4976-b8c3-1e727a43c06f');\n",
              "          const dataTable =\n",
              "            await google.colab.kernel.invokeFunction('convertToInteractive',\n",
              "                                                     [key], {});\n",
              "          if (!dataTable) return;\n",
              "\n",
              "          const docLinkHtml = 'Like what you see? Visit the ' +\n",
              "            '<a target=\"_blank\" href=https://colab.research.google.com/notebooks/data_table.ipynb>data table notebook</a>'\n",
              "            + ' to learn more about interactive tables.';\n",
              "          element.innerHTML = '';\n",
              "          dataTable['output_type'] = 'display_data';\n",
              "          await google.colab.output.renderOutput(dataTable, element);\n",
              "          const docLink = document.createElement('div');\n",
              "          docLink.innerHTML = docLinkHtml;\n",
              "          element.appendChild(docLink);\n",
              "        }\n",
              "      </script>\n",
              "    </div>\n",
              "  </div>\n",
              "  "
            ]
          },
          "metadata": {},
          "execution_count": 177
        }
      ]
    },
    {
      "cell_type": "code",
      "source": [
        "diagnosis = [\"healthy\", \"schizophrenia\"]\n",
        "condition = [\"\", \"press a button to generate an audio tone\", \"passively listen to the same tone\", \"press a button without generating a tone\"]"
      ],
      "metadata": {
        "id": "Cw7j-UyLYwz3"
      },
      "execution_count": 178,
      "outputs": []
    },
    {
      "cell_type": "code",
      "source": [
        "start_ms_time = df1[\"time_ms\"][0]\n",
        "end_ms_time = df1[\"time_ms\"][3071]\n",
        "print(start_ms_time, end_ms_time)"
      ],
      "metadata": {
        "colab": {
          "base_uri": "https://localhost:8080/"
        },
        "id": "MFfM1DXP6Zmk",
        "outputId": "c8f5d499-011f-4b93-acb7-c6edf0490a62"
      },
      "execution_count": 179,
      "outputs": [
        {
          "output_type": "stream",
          "name": "stdout",
          "text": [
            "-1500.0 1499.0234\n"
          ]
        }
      ]
    },
    {
      "cell_type": "code",
      "source": [
        "# time range for x-axis (ms)\n",
        "time_intervals = np.arange(start_ms_time, end_ms_time, 3)"
      ],
      "metadata": {
        "id": "rwOWgIRf5ZNh"
      },
      "execution_count": 180,
      "outputs": []
    },
    {
      "cell_type": "code",
      "source": [
        "df1[\"Fz\"][0:3072].plot()\n",
        "print(\"subject: \" + str(df1[\"subject\"][0]))\n",
        "print(\"diagnosis: \" + diagnosis[df1[\"diagnosis\"][0]])\n",
        "print(\"condition: \" + condition[df1[\"condition\"][0]])\n",
        "print()"
      ],
      "metadata": {
        "colab": {
          "base_uri": "https://localhost:8080/",
          "height": 336
        },
        "id": "sFzl-oD1YHNo",
        "outputId": "731d6f97-7645-4aa4-b251-f3b3fb8f4641"
      },
      "execution_count": 181,
      "outputs": [
        {
          "output_type": "stream",
          "name": "stdout",
          "text": [
            "subject: 1\n",
            "diagnosis: healthy\n",
            "condition: press a button to generate an audio tone\n",
            "\n"
          ]
        },
        {
          "output_type": "display_data",
          "data": {
            "text/plain": [
              "<Figure size 432x288 with 1 Axes>"
            ],
            "image/png": "[encoded data removed]"
          },
          "metadata": {
            "needs_background": "light"
          }
        }
      ]
    },
    {
      "cell_type": "code",
      "source": [
        "fig, axes = plt.subplots(nrows=1, ncols=3)\n",
        "\n",
        "# axes.set_yticks(time_intervals)\n",
        "\n",
        "fig.suptitle(\"subject \" + str(df1[\"subject\"][0]) + \" (\" + diagnosis[df1[\"diagnosis\"][0]] + \")\", fontsize=20, y=1.1, horizontalalignment='center')\n",
        "\n",
        "fig.set_figheight(4)\n",
        "fig.set_figwidth(20)\n",
        "\n",
        "df1[\"Fz\"][0:3072].plot(ax = axes[0])\n",
        "axes[0].set_title(condition[df1[\"condition\"][0]])\n",
        "\n",
        "df1[\"Fz\"][3072:3072+3072].plot(ax = axes[1])\n",
        "axes[1].set_title(condition[df1[\"condition\"][3072]])\n",
        "\n",
        "df1[\"Fz\"][3072+3072:3072+3072+3072].plot(ax = axes[2])\n",
        "axes[2].set_title(condition[df1[\"condition\"][3072+3072]])\n",
        "\n",
        "for ax in axes.flat:\n",
        "    ax.set(xlabel='time (ms)', ylabel='amplitude (µV)')"
      ],
      "metadata": {
        "colab": {
          "base_uri": "https://localhost:8080/",
          "height": 343
        },
        "id": "LKat3Pz7mFNo",
        "outputId": "901b2ea2-cac5-4694-d20f-af1bfa184bc4"
      },
      "execution_count": 182,
      "outputs": [
        {
          "output_type": "display_data",
          "data": {
            "text/plain": [
              "<Figure size 1440x288 with 3 Axes>"
            ],
            "image/png": "[encoded data removed]"
          },
          "metadata": {
            "needs_background": "light"
          }
        }
      ]
    },
    {
      "cell_type": "code",
      "source": [
        "fig, axes = plt.subplots(nrows=1, ncols=3)\n",
        "\n",
        "fig.suptitle(\"subject \" + str(df1[\"subject\"][737282]) + \" (\" + diagnosis[df1[\"diagnosis\"][737282]] + \")\", fontsize=20, y=1.1, horizontalalignment='center')\n",
        "\n",
        "fig.set_figheight(4)\n",
        "fig.set_figwidth(20)\n",
        "\n",
        "df1[\"Fz\"][737282:737282+3072].plot(ax = axes[0])\n",
        "axes[0].set_title(condition[df1[\"condition\"][737282]])\n",
        "\n",
        "df1[\"Fz\"][737282:737282+3072].plot(ax = axes[1])\n",
        "axes[1].set_title(condition[df1[\"condition\"][737282+3072]])\n",
        "\n",
        "df1[\"Fz\"][737282+3072:737282+3072+3072].plot(ax = axes[2])\n",
        "axes[2].set_title(condition[df1[\"condition\"][737282+3072+3072]])\n",
        "\n",
        "for ax in axes.flat:\n",
        "    ax.set(xlabel='time (ms)', ylabel='amplitude (µV)')"
      ],
      "metadata": {
        "colab": {
          "base_uri": "https://localhost:8080/",
          "height": 343
        },
        "id": "JwV5A_HCbQJf",
        "outputId": "a1a7c45f-e8fb-435e-942c-b030477f617d"
      },
      "execution_count": 183,
      "outputs": [
        {
          "output_type": "display_data",
          "data": {
            "text/plain": [
              "<Figure size 1440x288 with 3 Axes>"
            ],
            "image/png": "[encoded data removed]"
          },
          "metadata": {
            "needs_background": "light"
          }
        }
      ]
    },
    {
      "cell_type": "code",
      "source": [
        "\"\"\"\n",
        "Note that in these graphs, the total amount of time that is passed is 3000 miliseconds (3 seconds). the range of the graph should be -1500 to 1500\n",
        "(because they counted 1.5 seconds before the stimulus and 1.5 after that)\n",
        "\"\"\""
      ],
      "metadata": {
        "colab": {
          "base_uri": "https://localhost:8080/",
          "height": 53
        },
        "id": "I3I-ZqQ3bEaA",
        "outputId": "ebef252d-c5af-47c5-a38b-46e372c04e59"
      },
      "execution_count": 184,
      "outputs": [
        {
          "output_type": "execute_result",
          "data": {
            "text/plain": [
              "'\\nNote that in these graphs, the total amount of time that is passed is 3000 miliseconds (3 seconds). the range of the graph should be -1500 to 1500\\n(because they counted 1.5 seconds before the stimulus and 1.5 after that)\\n'"
            ],
            "application/vnd.google.colaboratory.intrinsic+json": {
              "type": "string"
            }
          },
          "metadata": {},
          "execution_count": 184
        }
      ]
    },
    {
      "cell_type": "code",
      "source": [
        "# look at one electrode (Fz) for 1 subject"
      ],
      "metadata": {
        "id": "4hrz35aayqDs"
      },
      "execution_count": 185,
      "outputs": []
    },
    {
      "cell_type": "code",
      "source": [
        "data_ex1 = df1['Fz']\n",
        "print(data_ex1)"
      ],
      "metadata": {
        "colab": {
          "base_uri": "https://localhost:8080/"
        },
        "id": "NhJDdBdEwFQF",
        "outputId": "9d90aba1-a385-4972-eaae-7d9613596fdf"
      },
      "execution_count": 186,
      "outputs": [
        {
          "output_type": "stream",
          "name": "stdout",
          "text": [
            "0         5.533701\n",
            "1         5.651489\n",
            "2         5.717580\n",
            "3         5.703267\n",
            "4         5.571578\n",
            "            ...   \n",
            "746491   -0.401267\n",
            "746492   -0.440294\n",
            "746493   -0.466162\n",
            "746494   -0.472620\n",
            "746495   -0.496193\n",
            "Name: Fz, Length: 746496, dtype: float64\n"
          ]
        }
      ]
    },
    {
      "cell_type": "code",
      "source": [
        "data_ex2 = df1['subject'][0:9216] # each subject has 9216 (3072*3) rows\n",
        "# use = (use == True)\n",
        "print(data_ex2)\n",
        "type(data_ex2)"
      ],
      "metadata": {
        "colab": {
          "base_uri": "https://localhost:8080/"
        },
        "id": "5l7R9Pjdyq06",
        "outputId": "5a574ff8-1630-4551-817e-bfa17ba134cd"
      },
      "execution_count": 187,
      "outputs": [
        {
          "output_type": "stream",
          "name": "stdout",
          "text": [
            "0       1\n",
            "1       1\n",
            "2       1\n",
            "3       1\n",
            "4       1\n",
            "       ..\n",
            "9211    1\n",
            "9212    1\n",
            "9213    1\n",
            "9214    1\n",
            "9215    1\n",
            "Name: subject, Length: 9216, dtype: int64\n"
          ]
        },
        {
          "output_type": "execute_result",
          "data": {
            "text/plain": [
              "pandas.core.series.Series"
            ]
          },
          "metadata": {},
          "execution_count": 187
        }
      ]
    },
    {
      "cell_type": "code",
      "source": [
        "necessary_data_ex1 = df1[[\"Fz\", \"time_ms\"]][0:9216]\n",
        "yn_schiz = df1[\"diagnosis\"][0]\n",
        "print(necessary_data_ex1)\n",
        "print()\n",
        "if yn_schiz == 0:\n",
        "  print(\"no schizophrenia\")\n",
        "else:\n",
        "  print(\"schizophrenia\")"
      ],
      "metadata": {
        "colab": {
          "base_uri": "https://localhost:8080/"
        },
        "id": "XsP4EgIw3wWE",
        "outputId": "2bad93eb-1928-43b4-fa1d-2eafc282213f"
      },
      "execution_count": 188,
      "outputs": [
        {
          "output_type": "stream",
          "name": "stdout",
          "text": [
            "            Fz    time_ms\n",
            "0     5.533701 -1500.0000\n",
            "1     5.651489 -1499.0234\n",
            "2     5.717580 -1498.0469\n",
            "3     5.703267 -1497.0703\n",
            "4     5.571578 -1496.0938\n",
            "...        ...        ...\n",
            "9211  3.139738  1495.1172\n",
            "9212  3.438934  1496.0938\n",
            "9213  3.700720  1497.0703\n",
            "9214  3.617369  1498.0469\n",
            "9215  3.185478  1499.0234\n",
            "\n",
            "[9216 rows x 2 columns]\n",
            "\n",
            "no schizophrenia\n"
          ]
        }
      ]
    }
  ]
}